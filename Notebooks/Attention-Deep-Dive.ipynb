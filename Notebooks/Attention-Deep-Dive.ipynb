{
 "cells": [
  {
   "cell_type": "code",
   "execution_count": 1,
   "id": "dd2ecd47",
   "metadata": {},
   "outputs": [],
   "source": [
    "import gensim.downloader as api\n",
    "from nltk import word_tokenize\n",
    "import numpy as np\n",
    "import matplotlib.pyplot as plt\n",
    "import re\n",
    "import torch\n",
    "import torch.nn as nn"
   ]
  },
  {
   "cell_type": "code",
   "execution_count": 2,
   "id": "b83f9b8f",
   "metadata": {},
   "outputs": [],
   "source": [
    "class Embedder:\n",
    "    \n",
    "    \"\"\"\n",
    "        A simple embedder that takes generates word embeddings:\n",
    "        \n",
    "        Parameters\n",
    "        ----------\n",
    "        model_name: str\n",
    "            The name of the gensim model to use for the generation of word embeddings\n",
    "        \n",
    "    \"\"\"\n",
    "    \n",
    "    def __init__(self, model_name: str = \"word2vec-google-news-300\"):\n",
    "        \n",
    "        try:\n",
    "            \n",
    "            self.model = api.load(model_name)\n",
    "        \n",
    "        except Exception as e:\n",
    "            \n",
    "            print(f\"Experienced the following error: {e}\")\n",
    "        \n",
    "    def embed(self, word: str) -> np.array:\n",
    "        \n",
    "        \"\"\"\n",
    "            An embedding function\n",
    "            \n",
    "            Parameters\n",
    "            ----------\n",
    "            word: str\n",
    "                the word to embed\n",
    "            \n",
    "            Returns\n",
    "            -------\n",
    "            word_embeddings: np.darray\n",
    "                the numpy array of the word embedding\n",
    "                \n",
    "        \"\"\"\n",
    "        \n",
    "        word = word.lower()\n",
    "        return self.model[word]\n",
    "        "
   ]
  },
  {
   "cell_type": "code",
   "execution_count": 3,
   "id": "c8344afe",
   "metadata": {},
   "outputs": [],
   "source": [
    "class WordTokenizer:\n",
    "    \"\"\"\n",
    "        A simple sentence tokenizer that makes use of the nltk library\n",
    "    \"\"\"\n",
    "    \n",
    "    def __init__(self):\n",
    "        \n",
    "        self.tokenizer = word_tokenize\n",
    "        \n",
    "    def tokenize(self, sentence: str) -> list[str]:\n",
    "        \"\"\"\n",
    "            A tokenize function that takes as input a sentence and generates an array of tokenized words\n",
    "            \n",
    "            Parameters\n",
    "            ----------\n",
    "            sentence: str\n",
    "                the sentence to tokenize\n",
    "            \n",
    "            \n",
    "            Returns\n",
    "            -------\n",
    "            tokenized_sentence: a list of strings\n",
    "        \"\"\"\n",
    "        \n",
    "        try:\n",
    "            sentence = re.sub(r\"[^a-zA-Z]\", \" \", sentence.lower()) \n",
    "            return self.tokenizer(sentence)\n",
    "        except Exception as e:\n",
    "            print(f\"Experienced the following error: {e}\")"
   ]
  },
  {
   "cell_type": "code",
   "execution_count": 4,
   "id": "4f25bbc7",
   "metadata": {},
   "outputs": [],
   "source": [
    "tokenizer = WordTokenizer()"
   ]
  },
  {
   "cell_type": "code",
   "execution_count": 5,
   "id": "4131a289",
   "metadata": {},
   "outputs": [],
   "source": [
    "embedder = Embedder()"
   ]
  },
  {
   "cell_type": "code",
   "execution_count": 6,
   "id": "bd096c6f",
   "metadata": {},
   "outputs": [],
   "source": [
    "class SimpleSelfAttention:\n",
    "    \"\"\"\n",
    "        This class calculates self attention. Weights not trainable. \n",
    "    \"\"\"\n",
    "    \n",
    "    def __init__(self, embedder = Embedder, tokenizer = WordTokenizer):\n",
    "        \n",
    "        self.embedder = Embedder()\n",
    "        self.tokenizer = WordTokenizer()\n",
    "        \n",
    "    \n",
    "    def forward(self, sentence):\n",
    "        words = self.tokenizer.tokenize(sentence)\n",
    "        embedding_list = []\n",
    "        for word in words:\n",
    "            embedding_list.append(self.embedder.embed(word))\n",
    "        sentence_embeddings = torch.Tensor(embedding_list)\n",
    "        attention_scores = sentence_embeddings @ sentence_embeddings.T\n",
    "        attention_weights = torch.softmax(attention_scores, dim=-1)\n",
    "        return attention_weights.numpy()\n",
    "        \n",
    "    def visualize(self, sentence):\n",
    "        words = self.tokenizer.tokenize(sentence)\n",
    "        attention_weights = self.forward(sentence)\n",
    "        plt.imshow(attention_weights)\n",
    "        plt.tick_params(top=True, labeltop=True, bottom=False, labelbottom=False)\n",
    "        plt.xticks(np.arange(len(words)), words)\n",
    "        plt.yticks(np.arange(len(words)), words)\n",
    "        for i in range(attention_weights.shape[0]):\n",
    "            for j in range(attention_weights.shape[0]):\n",
    "                plt.text(i-.25, j+.125, f\"{attention_weights[i][j]:.2f}\", color=\"red\")\n",
    "        plt.show()"
   ]
  },
  {
   "cell_type": "code",
   "execution_count": 7,
   "id": "a289cc16",
   "metadata": {},
   "outputs": [],
   "source": [
    "attentionClass = SimpleSelfAttention()"
   ]
  },
  {
   "cell_type": "code",
   "execution_count": 8,
   "id": "3b82ec21",
   "metadata": {},
   "outputs": [],
   "source": [
    "sentence = \"The old dog walks while the young puppy runs.\""
   ]
  },
  {
   "cell_type": "code",
   "execution_count": 9,
   "id": "b21b95a0",
   "metadata": {},
   "outputs": [
    {
     "name": "stderr",
     "output_type": "stream",
     "text": [
      "/tmp/ipykernel_26966/197665489.py:17: UserWarning: Creating a tensor from a list of numpy.ndarrays is extremely slow. Please consider converting the list to a single numpy.ndarray with numpy.array() before converting to a tensor. (Triggered internally at ../torch/csrc/utils/tensor_new.cpp:275.)\n",
      "  sentence_embeddings = torch.Tensor(embedding_list)\n"
     ]
    },
    {
     "data": {
      "text/plain": [
       "array([[2.0269302e-01, 7.9344966e-02, 7.6948598e-02, 9.1626562e-02,\n",
       "        9.7607203e-02, 2.0269302e-01, 9.7342849e-02, 5.8999803e-02,\n",
       "        9.2743956e-02],\n",
       "       [7.7352589e-03, 8.4597331e-01, 1.8012438e-02, 1.5491987e-02,\n",
       "        9.9599054e-03, 7.7352589e-03, 4.5087162e-02, 4.1279215e-02,\n",
       "        8.7254439e-03],\n",
       "       [1.1981113e-04, 2.8768234e-04, 7.2356004e-01, 7.8221876e-04,\n",
       "        1.4695898e-04, 1.1981113e-04, 1.8407981e-04, 2.7457556e-01,\n",
       "        2.2376943e-04],\n",
       "       [4.6553392e-05, 8.0738624e-05, 2.5524767e-04, 9.9665630e-01,\n",
       "        5.4177748e-05, 4.6553392e-05, 1.4917528e-04, 2.5185972e-04,\n",
       "        2.4593535e-03],\n",
       "       [6.5029971e-02, 6.8066195e-02, 6.2882788e-02, 7.1043253e-02,\n",
       "        4.8195955e-01, 6.5029971e-02, 6.3738756e-02, 6.0284086e-02,\n",
       "        6.1965499e-02],\n",
       "       [2.0269302e-01, 7.9344966e-02, 7.6948598e-02, 9.1626562e-02,\n",
       "        9.7607203e-02, 2.0269302e-01, 9.7342849e-02, 5.8999803e-02,\n",
       "        9.2743956e-02],\n",
       "       [1.2773850e-02, 6.0689718e-02, 1.5514139e-02, 3.8528752e-02,\n",
       "        1.2554216e-02, 1.2773850e-02, 8.0554831e-01, 3.2334011e-02,\n",
       "        9.2831291e-03],\n",
       "       [1.8856175e-05, 1.3532522e-04, 5.6359734e-02, 1.5842803e-04,\n",
       "        2.8918384e-05, 1.8856175e-05, 7.8748933e-05, 9.4316143e-01,\n",
       "        3.9719915e-05],\n",
       "       [1.8592514e-03, 1.7942559e-03, 2.8810906e-03, 9.7038388e-02,\n",
       "        1.8645357e-03, 1.8592514e-03, 1.4181725e-03, 2.4914828e-03,\n",
       "        8.8879359e-01]], dtype=float32)"
      ]
     },
     "execution_count": 9,
     "metadata": {},
     "output_type": "execute_result"
    }
   ],
   "source": [
    "attentionClass.forward(sentence)"
   ]
  },
  {
   "cell_type": "code",
   "execution_count": 10,
   "id": "f35efc3a",
   "metadata": {},
   "outputs": [
    {
     "data": {
      "image/png": "[encoded data removed]",
      "text/plain": [
       "<Figure size 640x480 with 1 Axes>"
      ]
     },
     "metadata": {},
     "output_type": "display_data"
    }
   ],
   "source": [
    "attentionClass.visualize(sentence)"
   ]
  },
  {
   "cell_type": "markdown",
   "id": "e22b5bac",
   "metadata": {},
   "source": [
    "<h1 align=\"center\"> The Attention Mechanism </h1>"
   ]
  },
  {
   "cell_type": "markdown",
   "id": "5d8e09d0",
   "metadata": {},
   "source": [
    "![title](attention.png)"
   ]
  },
  {
   "cell_type": "code",
   "execution_count": 11,
   "id": "955ecb43",
   "metadata": {},
   "outputs": [],
   "source": [
    "class SelfAttention_v1(nn.Module):\n",
    "    def __init__(self, d_in, d_out):\n",
    "        super().__init__()\n",
    "        self.d_in = d_in\n",
    "        self.d_out = d_out\n",
    "        self.query = nn.Parameter(torch.rand(d_in, d_out))\n",
    "        self.key = nn.Parameter(torch.rand(d_in, d_out))\n",
    "        self.value = nn.Parameter(torch.rand(d_in, d_out))\n",
    "        self.attention_weights = None\n",
    "        \n",
    "        \n",
    "    def forward(self, x: np.array, causal=False):\n",
    "        queries = x @ self.query\n",
    "        keys = x @ self.key\n",
    "        values = x @ self.value\n",
    "        \n",
    "        \n",
    "        attention_scores = queries @ keys.T\n",
    "        \n",
    "        if causal:\n",
    "            mask = torch.tril(torch.ones(x.shape[0], x.shape[0]))\n",
    "            attention_scores = attention_scores * mask\n",
    "            row_sums = torch.sum(attention_scores, dim=-1)\n",
    "            attention_weights = attention_scores/row_sums\n",
    "        else:\n",
    "        \n",
    "            attention_weights = torch.softmax(\n",
    "                attention_scores/(keys.shape[1] ** 0.5), \n",
    "            dim=-1)\n",
    "        self.attention_weights = attention_weights\n",
    "        context_vec = attention_weights @ values\n",
    "        \n",
    "        return context_vec"
   ]
  },
  {
   "cell_type": "code",
   "execution_count": 12,
   "id": "2ca63902",
   "metadata": {},
   "outputs": [],
   "source": [
    "sentence = \"The old dog walks slowly while the young puppy runs fast.\""
   ]
  },
  {
   "cell_type": "code",
   "execution_count": 13,
   "id": "333552e1",
   "metadata": {},
   "outputs": [],
   "source": [
    "words = tokenizer.tokenize(sentence)"
   ]
  },
  {
   "cell_type": "code",
   "execution_count": 14,
   "id": "31c87b03",
   "metadata": {},
   "outputs": [],
   "source": [
    "def generate_word_embedding(words):\n",
    "    embedding_list = []\n",
    "    for word in words:\n",
    "        embedding_list.append(embedder.embed(word))\n",
    "    word_embeddings = torch.Tensor(embedding_list)\n",
    "    return word_embeddings"
   ]
  },
  {
   "cell_type": "code",
   "execution_count": 15,
   "id": "9166c14e",
   "metadata": {},
   "outputs": [],
   "source": [
    "self_attention_v1 = SelfAttention_v1(300, 128)"
   ]
  },
  {
   "cell_type": "code",
   "execution_count": 16,
   "id": "0b344c11",
   "metadata": {},
   "outputs": [],
   "source": [
    "class SelfAttention_v2(nn.Module):\n",
    "    def __init__(self, d_in, d_out, dropout=0.5):\n",
    "        super().__init__()\n",
    "        self.d_in = d_in\n",
    "        self.d_out = d_out\n",
    "        \n",
    "        self.query = nn.Linear(d_in, d_out)\n",
    "        self.key = nn.Linear(d_in, d_out)\n",
    "        self.value = nn.Linear(d_in, d_out)\n",
    "        self.attention_scores = None\n",
    "        self.dropout = nn.Dropout(dropout)\n",
    "        \n",
    "    def forward(self, x, causal=False):\n",
    "        \n",
    "        # x -> words x d_in\n",
    "        \n",
    "        query = self.query(x) # words x d_out\n",
    "        key = self.key(x) # words x d_out\n",
    "        value = self.value(x) # words x d_out\n",
    "        \n",
    "        attention_scores = query @ key.T # words x words\n",
    "        \n",
    "        if causal:\n",
    "            mask = torch.triu(torch.ones(x.shape[0], x.shape[0]),  diagonal=1)\n",
    "            attention_scores = attention_scores.masked_fill(mask.bool(), -torch.inf)\n",
    "            \n",
    "        attention_weights = torch.softmax(\n",
    "            attention_scores / (key.shape[1] ** 0.5),\n",
    "            dim = -1\n",
    "        ) # words x words\n",
    "        \n",
    "        \n",
    "        self.attention_weights = attention_weights\n",
    "        \n",
    "        masked_attention_weights = self.dropout(attention_weights)\n",
    "        \n",
    "        context_vec = masked_attention_weights @ value\n",
    "        \n",
    "        \n",
    "        return context_vec\n",
    "        "
   ]
  },
  {
   "cell_type": "code",
   "execution_count": 17,
   "id": "3bbd8b80",
   "metadata": {},
   "outputs": [],
   "source": [
    "self_attention_v2 = SelfAttention_v2(300, 128, dropout=0.1)"
   ]
  },
  {
   "cell_type": "code",
   "execution_count": 18,
   "id": "5d1eaadb",
   "metadata": {},
   "outputs": [],
   "source": [
    "class CausalAttention(nn.Module):\n",
    "    def __init__(self, d_in, d_out, dropout=0.2, qkv_bias=False, context_size=10):\n",
    "        super().__init__()\n",
    "        self.wQ = nn.Linear(d_in, d_out, bias=qkv_bias)\n",
    "        self.wK = nn.Linear(d_in, d_out, bias=qkv_bias)\n",
    "        self.wV = nn.Linear(d_in, d_out, bias=qkv_bias)\n",
    "        \n",
    "        self.dropout = nn.Dropout(dropout)\n",
    "        \n",
    "        self.register_buffer(\n",
    "                \"mask\",\n",
    "                torch.triu(torch.ones(context_size, context_size), diagonal=1)\n",
    "        )\n",
    "        \n",
    "    \n",
    "    def forward(self, x):\n",
    "        q = self.wQ(x)\n",
    "        k = self.wK(x)\n",
    "        v = self.wV(x)\n",
    "        \n",
    "        attention_scores = q @ k.transpose(1, 2)\n",
    "        \n",
    "        attention_scores = attention_scores.masked_fill(self.mask.bool(), -torch.inf)\n",
    "        \n",
    "        \n",
    "        attention_weights = torch.softmax(attention_scores / (k.shape[-1]**0.5), \n",
    "                                          dim=-1)\n",
    "        \n",
    "        context_vector = attention_weights @ v\n",
    "        \n",
    "        return context_vector"
   ]
  },
  {
   "cell_type": "code",
   "execution_count": 19,
   "id": "354af864",
   "metadata": {},
   "outputs": [],
   "source": [
    "s1 = \"The aurora danced vividly, painting the frozen sky with brilliance.\"\n",
    "s2 = \"Time travelers whispered secrets, unraveling mysteries from forgotten ancient civilizations.\""
   ]
  },
  {
   "cell_type": "code",
   "execution_count": 20,
   "id": "ba271d45",
   "metadata": {},
   "outputs": [],
   "source": [
    "words_1 = tokenizer.tokenize(s1)\n",
    "words_2 = tokenizer.tokenize(s2)"
   ]
  },
  {
   "cell_type": "code",
   "execution_count": 21,
   "id": "cc6effe0",
   "metadata": {},
   "outputs": [],
   "source": [
    "embeddings_1 = generate_word_embedding(words_1)\n",
    "embeddings_2 = generate_word_embedding(words_2)"
   ]
  },
  {
   "cell_type": "code",
   "execution_count": 22,
   "id": "b201832b",
   "metadata": {},
   "outputs": [],
   "source": [
    "x = torch.stack([embeddings_1, embeddings_2], dim=0)"
   ]
  },
  {
   "cell_type": "code",
   "execution_count": 29,
   "id": "e6668965",
   "metadata": {},
   "outputs": [
    {
     "data": {
      "text/plain": [
       "torch.Size([2, 10, 300])"
      ]
     },
     "execution_count": 29,
     "metadata": {},
     "output_type": "execute_result"
    }
   ],
   "source": [
    "x.shape"
   ]
  },
  {
   "cell_type": "code",
   "execution_count": 23,
   "id": "607799bd",
   "metadata": {},
   "outputs": [],
   "source": [
    "causal_attention = CausalAttention(300, 128)"
   ]
  },
  {
   "cell_type": "code",
   "execution_count": 24,
   "id": "5f7a9261",
   "metadata": {},
   "outputs": [],
   "source": [
    "class MultiHeadedSeqAttention(nn.Module):\n",
    "    def __init__(self, d_in, d_out, num_heads):\n",
    "        super().__init__()\n",
    "        self.num_heads = num_heads\n",
    "        self.heads = nn.ModuleList(\n",
    "            [CausalAttention(\n",
    "                d_in, d_out)\n",
    "            for i in range(num_heads)]\n",
    "        )\n",
    "        \n",
    "    def forward(self, x):\n",
    "        \n",
    "        return torch.cat([head(x) for head in self.heads], dim=-1)"
   ]
  },
  {
   "cell_type": "code",
   "execution_count": 25,
   "id": "1496d824",
   "metadata": {},
   "outputs": [],
   "source": [
    "multi_attention = MultiHeadedSeqAttention(300, 128, 4)"
   ]
  },
  {
   "cell_type": "code",
   "execution_count": 26,
   "id": "81be8232",
   "metadata": {},
   "outputs": [],
   "source": [
    "out = multi_attention(x)"
   ]
  },
  {
   "cell_type": "code",
   "execution_count": 32,
   "id": "9bc6a588",
   "metadata": {},
   "outputs": [
    {
     "data": {
      "text/plain": [
       "torch.Size([2, 10, 512])"
      ]
     },
     "execution_count": 32,
     "metadata": {},
     "output_type": "execute_result"
    }
   ],
   "source": [
    "out.shape"
   ]
  },
  {
   "cell_type": "code",
   "execution_count": 33,
   "id": "8e64841c",
   "metadata": {},
   "outputs": [
    {
     "data": {
      "text/plain": [
       "128.0"
      ]
     },
     "execution_count": 33,
     "metadata": {},
     "output_type": "execute_result"
    }
   ],
   "source": [
    "512/4"
   ]
  },
  {
   "cell_type": "code",
   "execution_count": 35,
   "id": "cf90940e",
   "metadata": {},
   "outputs": [
    {
     "data": {
      "text/plain": [
       "torch.Size([2, 10, 4, 128])"
      ]
     },
     "execution_count": 35,
     "metadata": {},
     "output_type": "execute_result"
    }
   ],
   "source": [
    "out.view(2, 10, 4, 128).shape"
   ]
  },
  {
   "cell_type": "code",
   "execution_count": 80,
   "id": "0bde8656",
   "metadata": {},
   "outputs": [],
   "source": [
    "class MultiHeadedAttention(nn.Module):\n",
    "    def __init__(self, d_in, d_out, num_heads, dropout=0.2):\n",
    "        super().__init__()\n",
    "        self.d_in = d_in\n",
    "        self.d_out = d_out\n",
    "        self.num_heads = num_heads\n",
    "        \n",
    "        assert d_out % num_heads == 0, \"Number of heads must divide the embedding dimension\"\n",
    "        \n",
    "        self.dropout = nn.Dropout(dropout)\n",
    "        \n",
    "        self.w_keys = nn.Linear(d_in, d_out)\n",
    "        self.w_values = nn.Linear(d_in, d_out)\n",
    "        self.w_queries = nn.Linear(d_in, d_out)\n",
    "        \n",
    "        \n",
    "    def forward(self, x):\n",
    "        \n",
    "        b, w, _ = x.shape\n",
    "        dv = self.d_out // self.num_heads\n",
    "        \n",
    "        # x -> (b, w, d_in)\n",
    "        \n",
    "        # qkv -> (b, w, d_out)\n",
    "        \n",
    "        keys = self.w_keys(x).view(b, w, self.num_heads, dv)\n",
    "        queries = self.w_queries(x).view(b, w, self.num_heads, dv)\n",
    "        values = self.w_values(x).view(b, w, self.num_heads, dv)\n",
    "        \n",
    "        # qkv -> (b, w, num_heads, dv)\n",
    "        \n",
    "        keys = keys.transpose(1, 2)\n",
    "        queries = queries.transpose(1, 2)\n",
    "        values = values.transpose(1, 2)\n",
    "        \n",
    "        # qkv -> (b, num_heads, w, dv)\n",
    "        \n",
    "        attention_mask = queries @ keys.transpose(2, 3)\n",
    "        \n",
    "        # attention_mask -> (b, num_heads, w, w)\n",
    "        \n",
    "        attention_weights = torch.softmax(attention_mask / (dv ** 0.5), dim=-1)\n",
    "        \n",
    "        # attention_weights -> (b, num_heads, w)\n",
    "        \n",
    "        context_vector = attention_weights @ values\n",
    "        \n",
    "        # context_vector -> (b, num_heads, d_out)\n",
    "        \n",
    "        return context_vector.transpose(1, 2).contiguous().view(b, w, self.d_out)"
   ]
  },
  {
   "cell_type": "code",
   "execution_count": 81,
   "id": "0c5d2f58",
   "metadata": {},
   "outputs": [],
   "source": [
    "mha = MultiHeadedAttention(300, 128, 4)"
   ]
  },
  {
   "cell_type": "code",
   "execution_count": 82,
   "id": "653d04f1",
   "metadata": {},
   "outputs": [
    {
     "data": {
      "text/plain": [
       "torch.Size([2, 10, 128])"
      ]
     },
     "execution_count": 82,
     "metadata": {},
     "output_type": "execute_result"
    }
   ],
   "source": [
    "mha(x).shape"
   ]
  },
  {
   "cell_type": "code",
   "execution_count": null,
   "id": "0d40a6d8",
   "metadata": {},
   "outputs": [],
   "source": []
  }
 ],
 "metadata": {
  "kernelspec": {
   "display_name": "Python 3 (ipykernel)",
   "language": "python",
   "name": "python3"
  },
  "language_info": {
   "codemirror_mode": {
    "name": "ipython",
    "version": 3
   },
   "file_extension": ".py",
   "mimetype": "text/x-python",
   "name": "python",
   "nbconvert_exporter": "python",
   "pygments_lexer": "ipython3",
   "version": "3.11.5"
  }
 },
 "nbformat": 4,
 "nbformat_minor": 5
}
